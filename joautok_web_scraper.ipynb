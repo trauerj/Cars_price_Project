{
 "cells": [
  {
   "cell_type": "code",
   "execution_count": 1,
   "id": "45d14a4e",
   "metadata": {},
   "outputs": [],
   "source": [
    "import re\n",
    "import csv\n",
    "import json\n",
    "from io import StringIO\n",
    "from bs4 import BeautifulSoup\n",
    "import requests"
   ]
  },
  {
   "cell_type": "code",
   "execution_count": 2,
   "id": "4d248d11",
   "metadata": {},
   "outputs": [],
   "source": [
    "url_joautok = 'https://joautok.hu/hasznaltauto?page=2367'\n",
    "response = requests.get(url_joautok)"
   ]
  },
  {
   "cell_type": "code",
   "execution_count": 3,
   "id": "e41950ce",
   "metadata": {},
   "outputs": [
    {
     "data": {
      "text/plain": [
       "<Response [200]>"
      ]
     },
     "execution_count": 3,
     "metadata": {},
     "output_type": "execute_result"
    }
   ],
   "source": [
    "response"
   ]
  },
  {
   "cell_type": "code",
   "execution_count": 4,
   "id": "818c86f6",
   "metadata": {},
   "outputs": [
    {
     "data": {
      "text/plain": [
       "'OK'"
      ]
     },
     "execution_count": 4,
     "metadata": {},
     "output_type": "execute_result"
    }
   ],
   "source": [
    "response.reason"
   ]
  },
  {
   "cell_type": "code",
   "execution_count": 5,
   "id": "98ef0b64",
   "metadata": {},
   "outputs": [],
   "source": [
    "soup = BeautifulSoup(response.text, 'html.parser')"
   ]
  },
  {
   "cell_type": "code",
   "execution_count": 6,
   "id": "ae909383",
   "metadata": {},
   "outputs": [],
   "source": [
    "cars = soup.find_all('a', 'item')"
   ]
  },
  {
   "cell_type": "code",
   "execution_count": 7,
   "id": "aba14609",
   "metadata": {},
   "outputs": [
    {
     "data": {
      "text/plain": [
       "11972"
      ]
     },
     "execution_count": 7,
     "metadata": {},
     "output_type": "execute_result"
    }
   ],
   "source": [
    "len(cars)"
   ]
  },
  {
   "cell_type": "code",
   "execution_count": 29,
   "id": "fbb2389e",
   "metadata": {},
   "outputs": [
    {
     "data": {
      "text/plain": [
       "'PEUGEOT  308'"
      ]
     },
     "execution_count": 29,
     "metadata": {},
     "output_type": "execute_result"
    }
   ],
   "source": [
    "car = cars[1]\n",
    "brand_mf = car.h2.text.replace(u'\\xa0', u' ')\n",
    "brand_mf"
   ]
  },
  {
   "cell_type": "code",
   "execution_count": 34,
   "id": "6a02ae38",
   "metadata": {},
   "outputs": [
    {
     "data": {
      "text/plain": [
       "'308 SW 1.6 BlueHDi Allure'"
      ]
     },
     "execution_count": 34,
     "metadata": {},
     "output_type": "execute_result"
    }
   ],
   "source": [
    "type = car.h3.text#.replace(u'\\xa0', u' ')\n",
    "type"
   ]
  },
  {
   "cell_type": "code",
   "execution_count": 35,
   "id": "d9a751ab",
   "metadata": {},
   "outputs": [
    {
     "data": {
      "text/plain": [
       "'Globe-Auto Kft.'"
      ]
     },
     "execution_count": 35,
     "metadata": {},
     "output_type": "execute_result"
    }
   ],
   "source": [
    "dealership_name = car.find('div','dealership-name').text.strip()\n",
    "dealership_name"
   ]
  },
  {
   "cell_type": "code",
   "execution_count": 36,
   "id": "3763aa7f",
   "metadata": {},
   "outputs": [
    {
     "data": {
      "text/plain": [
       "'(Mezőkövesd)'"
      ]
     },
     "execution_count": 36,
     "metadata": {},
     "output_type": "execute_result"
    }
   ],
   "source": [
    "dealership_loc = car.find('div', 'city').text.strip()\n",
    "dealership_loc"
   ]
  },
  {
   "cell_type": "code",
   "execution_count": 37,
   "id": "2a066309",
   "metadata": {},
   "outputs": [
    {
     "data": {
      "text/plain": [
       "'Minősített Prémium kereskedő'"
      ]
     },
     "execution_count": 37,
     "metadata": {},
     "output_type": "execute_result"
    }
   ],
   "source": [
    "dealership_evaluation = car.find('div','evaluation').text.strip()\n",
    "dealership_evaluation"
   ]
  },
  {
   "cell_type": "code",
   "execution_count": 38,
   "id": "4a29b3b2",
   "metadata": {},
   "outputs": [
    {
     "data": {
      "text/plain": [
       "'2018. 03.'"
      ]
     },
     "execution_count": 38,
     "metadata": {},
     "output_type": "execute_result"
    }
   ],
   "source": [
    "year = car.find('div', 'year-odo').span.b.text\n",
    "year"
   ]
  },
  {
   "cell_type": "code",
   "execution_count": 39,
   "id": "f9292288",
   "metadata": {},
   "outputs": [
    {
     "data": {
      "text/plain": [
       "'127 440 km'"
      ]
     },
     "execution_count": 39,
     "metadata": {},
     "output_type": "execute_result"
    }
   ],
   "source": [
    "km = car.find('div', 'year-odo').find('span','dotted').text\n",
    "km"
   ]
  },
  {
   "cell_type": "code",
   "execution_count": 42,
   "id": "be8133c6",
   "metadata": {},
   "outputs": [
    {
     "data": {
      "text/plain": [
       "'4 199 000 Ft'"
      ]
     },
     "execution_count": 42,
     "metadata": {},
     "output_type": "execute_result"
    }
   ],
   "source": [
    "priceprice = car.find('div', 'price').text.strip()\n"
   ]
  },
  {
   "cell_type": "code",
   "execution_count": 79,
   "id": "d787cc24",
   "metadata": {},
   "outputs": [
    {
     "data": {
      "text/plain": [
       "9"
      ]
     },
     "execution_count": 79,
     "metadata": {},
     "output_type": "execute_result"
    }
   ],
   "source": [
    "data_number = car.find_all('span', 'dotted')\n",
    "len(data_number)"
   ]
  },
  {
   "cell_type": "code",
   "execution_count": 53,
   "id": "073269b6",
   "metadata": {},
   "outputs": [
    {
     "data": {
      "text/plain": [
       "'120 LE'"
      ]
     },
     "execution_count": 53,
     "metadata": {},
     "output_type": "execute_result"
    }
   ],
   "source": [
    "horsepower = car.find_all('div','tags')[0].find_all('span', 'dotted')[0].text\n",
    "horsepower"
   ]
  },
  {
   "cell_type": "code",
   "execution_count": 54,
   "id": "abae46a6",
   "metadata": {},
   "outputs": [
    {
     "data": {
      "text/plain": [
       "'Dízel'"
      ]
     },
     "execution_count": 54,
     "metadata": {},
     "output_type": "execute_result"
    }
   ],
   "source": [
    "engine = car.find_all('div','tags')[0].find_all('span', 'dotted')[1].text\n",
    "fuel_type = car.find_all('div','tags')[0].find_all('span', 'dotted')[2].text\n",
    "engine\n",
    "fuel_type"
   ]
  },
  {
   "cell_type": "code",
   "execution_count": 55,
   "id": "79514dc6",
   "metadata": {},
   "outputs": [
    {
     "data": {
      "text/plain": [
       "'1560 cm3'"
      ]
     },
     "execution_count": 55,
     "metadata": {},
     "output_type": "execute_result"
    }
   ],
   "source": [
    "engine"
   ]
  },
  {
   "cell_type": "code",
   "execution_count": 56,
   "id": "58593224",
   "metadata": {},
   "outputs": [
    {
     "data": {
      "text/plain": [
       "'Kombi'"
      ]
     },
     "execution_count": 56,
     "metadata": {},
     "output_type": "execute_result"
    }
   ],
   "source": [
    "kialakitas = car.find_all('div','tags')[1].find_all('span', 'dotted')[0].text\n",
    "kialakitas"
   ]
  },
  {
   "cell_type": "code",
   "execution_count": 57,
   "id": "787d70cf",
   "metadata": {},
   "outputs": [
    {
     "data": {
      "text/plain": [
       "'Használt'"
      ]
     },
     "execution_count": 57,
     "metadata": {},
     "output_type": "execute_result"
    }
   ],
   "source": [
    "condition = car.find_all('div','tags')[1].find_all('span', 'dotted')[1].text\n",
    "condition"
   ]
  },
  {
   "cell_type": "code",
   "execution_count": 58,
   "id": "8aeb34a6",
   "metadata": {},
   "outputs": [
    {
     "data": {
      "text/plain": [
       "'5 ajtós'"
      ]
     },
     "execution_count": 58,
     "metadata": {},
     "output_type": "execute_result"
    }
   ],
   "source": [
    "doors = car.find_all('div','tags')[2].find_all('span', 'dotted')[0].text\n",
    "doors"
   ]
  },
  {
   "cell_type": "code",
   "execution_count": 59,
   "id": "8248e15e",
   "metadata": {},
   "outputs": [
    {
     "data": {
      "text/plain": [
       "'5 fő'"
      ]
     },
     "execution_count": 59,
     "metadata": {},
     "output_type": "execute_result"
    }
   ],
   "source": [
    "people = car.find_all('div','tags')[2].find_all('span', 'dotted')[1].text\n",
    "people"
   ]
  },
  {
   "cell_type": "code",
   "execution_count": 61,
   "id": "39614801",
   "metadata": {},
   "outputs": [
    {
     "data": {
      "text/plain": [
       "'Manuális'"
      ]
     },
     "execution_count": 61,
     "metadata": {},
     "output_type": "execute_result"
    }
   ],
   "source": [
    "Transmission = car.find_all('div','tags')[2].find_all('span', 'dotted')[2].text\n",
    "Transmission"
   ]
  },
  {
   "cell_type": "code",
   "execution_count": 85,
   "id": "48298848",
   "metadata": {},
   "outputs": [],
   "source": [
    "\"\"\"def get_cardata(car):\n",
    "    \n",
    "    data_number = car.find_all('span', 'dotted')\n",
    "    len(data_number)\n",
    "    if len(data_number) == 9:\n",
    "        brand_mf = car.h2.text.replace(u'\\xa0', u' ')\n",
    "        type = car.h3.text#.replace(u'\\xa0', u' ')\n",
    "        dealership_name = car.find('div','dealership-name').text.strip()\n",
    "        dealership_loc = car.find('div', 'city').text.strip()\n",
    "        dealership_evaluation = car.find('div','evaluation').text.strip()\n",
    "        year = car.find('div', 'year-odo').span.b.text\n",
    "        km = car.find('div', 'year-odo').find('span','dotted').text\n",
    "        price = car.find('div', 'price').text.strip()\n",
    "        horsepower = car.find_all('div','tags')[0].find_all('span', 'dotted')[0].text\n",
    "        engine = car.find_all('div','tags')[0].find_all('span', 'dotted')[1].text\n",
    "        fuel_type = car.find_all('div','tags')[0].find_all('span', 'dotted')[2].text\n",
    "        kialakitas = car.find_all('div','tags')[1].find_all('span', 'dotted')[0].text\n",
    "        condition = car.find_all('div','tags')[1].find_all('span', 'dotted')[1].text\n",
    "        doors = car.find_all('div','tags')[2].find_all('span', 'dotted')[0].text\n",
    "        people = car.find_all('div','tags')[2].find_all('span', 'dotted')[1].text\n",
    "        Transmission = car.find_all('div','tags')[2].find_all('span', 'dotted')[2].text\n",
    "        cardata = (brand_mf, type, dealership_name, dealership_loc, dealership_evaluation, year, km, price, horsepower, engine, fuel_type, kialakitas, condition, doors, people, Transmission)\n",
    "        return cardata\"\"\""
   ]
  },
  {
   "cell_type": "code",
   "execution_count": 90,
   "id": "5dea1f83",
   "metadata": {},
   "outputs": [],
   "source": [
    "def get_min_cardata(car):\n",
    "    brand_mf = car.h2.text.replace(u'\\xa0', u' ')\n",
    "    type = car.h3.text#.replace(u'\\xa0', u' ')\n",
    "    dealership_name = car.find('div','dealership-name').text.strip()\n",
    "    dealership_loc = car.find('div', 'city').text.strip()\n",
    "    dealership_evaluation = car.find('div','evaluation').text.strip()\n",
    "    year = car.find('div', 'year-odo').span.b.text\n",
    "    km = car.find('div', 'year-odo').find('span','dotted').text\n",
    "    price = car.find('div', 'price').text.strip()\n",
    "    min_cardata = (brand_mf, type, dealership_name, dealership_loc, dealership_evaluation, year, km, price)\n",
    "    return min_cardata"
   ]
  },
  {
   "cell_type": "code",
   "execution_count": 91,
   "id": "940c0973",
   "metadata": {},
   "outputs": [],
   "source": [
    "carsdata = []\n",
    "for car in cars:\n",
    "    #data_number = car.find_all('span', 'dotted')\n",
    "    #len(data_number)\n",
    "    #if len(data_number) >= 9:\n",
    "    car_data = get_min_cardata(car)\n",
    "    carsdata.append(car_data)"
   ]
  },
  {
   "cell_type": "code",
   "execution_count": 92,
   "id": "b2619e4d",
   "metadata": {},
   "outputs": [],
   "source": [
    "with open('min_carsdata.csv','w', newline='',encoding='utf-8') as f:\n",
    "    writer = csv.writer(f)\n",
    "    writer.writerow(['brand_mf', 'type', 'dealership_name', 'dealership_loc', 'dealership_evaluation', 'year', 'km', 'price'])\n",
    "    writer.writerows(carsdata)"
   ]
  },
  {
   "cell_type": "code",
   "execution_count": null,
   "id": "7b7e06fd",
   "metadata": {},
   "outputs": [],
   "source": []
  }
 ],
 "metadata": {
  "kernelspec": {
   "display_name": "Python 3 (ipykernel)",
   "language": "python",
   "name": "python3"
  },
  "language_info": {
   "codemirror_mode": {
    "name": "ipython",
    "version": 3
   },
   "file_extension": ".py",
   "mimetype": "text/x-python",
   "name": "python",
   "nbconvert_exporter": "python",
   "pygments_lexer": "ipython3",
   "version": "3.9.13"
  }
 },
 "nbformat": 4,
 "nbformat_minor": 5
}
