{
 "cells": [
  {
   "cell_type": "markdown",
   "id": "794da8ef",
   "metadata": {},
   "source": [
    "# Notebook for collecting cars' data from 'joautok.hu' (Web scraping)"
   ]
  },
  {
   "cell_type": "markdown",
   "id": "25466d6b",
   "metadata": {},
   "source": [
    "### Second step is import packages and modules\n",
    "#### csv is for write/save csv file\n",
    "#### bs4 is for pulling data from html\n",
    "#### requests is for request and get the url\n",
    "#### yfinance is for get data of mutual funds"
   ]
  },
  {
   "cell_type": "code",
   "execution_count": 48,
   "id": "45d14a4e",
   "metadata": {},
   "outputs": [],
   "source": [
    "import re\n",
    "import csv\n",
    "import json\n",
    "from io import StringIO\n",
    "from bs4 import BeautifulSoup\n",
    "import requests"
   ]
  },
  {
   "cell_type": "markdown",
   "id": "c5bd046a",
   "metadata": {},
   "source": [
    "### Next step is get the url \n",
    "#### - First, give the url.\n",
    "#### - After that, get the data from the specified url, as 'response' variable.\n",
    "#### - With the response variable we inspect the result of the get() function.\n",
    "#### - Code=Reason: 200=OK; 404=Not Found; 403=Forbidden"
   ]
  },
  {
   "cell_type": "code",
   "execution_count": 49,
   "id": "4d248d11",
   "metadata": {},
   "outputs": [],
   "source": [
    "url_joautok = 'https://joautok.hu/hasznaltauto?page=2367'\n",
    "response = requests.get(url_joautok)"
   ]
  },
  {
   "cell_type": "code",
   "execution_count": 50,
   "id": "e41950ce",
   "metadata": {},
   "outputs": [
    {
     "data": {
      "text/plain": [
       "<Response [200]>"
      ]
     },
     "execution_count": 50,
     "metadata": {},
     "output_type": "execute_result"
    }
   ],
   "source": [
    "response"
   ]
  },
  {
   "cell_type": "code",
   "execution_count": 51,
   "id": "818c86f6",
   "metadata": {},
   "outputs": [
    {
     "data": {
      "text/plain": [
       "'OK'"
      ]
     },
     "execution_count": 51,
     "metadata": {},
     "output_type": "execute_result"
    }
   ],
   "source": [
    "response.reason"
   ]
  },
  {
   "cell_type": "markdown",
   "id": "a56ec013",
   "metadata": {},
   "source": [
    "### With BeautifulSoup we get a BeautifulSoup object, which represent the url document as a nested data structure"
   ]
  },
  {
   "cell_type": "code",
   "execution_count": 52,
   "id": "98ef0b64",
   "metadata": {},
   "outputs": [],
   "source": [
    "soup = BeautifulSoup(response.text, 'html.parser')"
   ]
  },
  {
   "cell_type": "markdown",
   "id": "62c72af5",
   "metadata": {},
   "source": [
    "### Find every 'a' tag with class='item'\n",
    "#### With len(cars) function, check the number of found cars."
   ]
  },
  {
   "cell_type": "code",
   "execution_count": 53,
   "id": "ae909383",
   "metadata": {},
   "outputs": [],
   "source": [
    "cars = soup.find_all('a', 'item')"
   ]
  },
  {
   "cell_type": "code",
   "execution_count": 54,
   "id": "aba14609",
   "metadata": {},
   "outputs": [
    {
     "data": {
      "text/plain": [
       "14283"
      ]
     },
     "execution_count": 54,
     "metadata": {},
     "output_type": "execute_result"
    }
   ],
   "source": [
    "len(cars)"
   ]
  },
  {
   "cell_type": "markdown",
   "id": "cfe52c72",
   "metadata": {},
   "source": [
    "### In this section we collect the main data of a car. (second car)"
   ]
  },
  {
   "cell_type": "code",
   "execution_count": 55,
   "id": "fbb2389e",
   "metadata": {},
   "outputs": [
    {
     "data": {
      "text/plain": [
       "'PEUGEOT  308'"
      ]
     },
     "execution_count": 55,
     "metadata": {},
     "output_type": "execute_result"
    }
   ],
   "source": [
    "car = cars[1]\n",
    "brand_mf = car.h2.text.replace(u'\\xa0', u' ')\n",
    "brand_mf"
   ]
  },
  {
   "cell_type": "code",
   "execution_count": 56,
   "id": "6a02ae38",
   "metadata": {},
   "outputs": [
    {
     "data": {
      "text/plain": [
       "'308 SW 1.6 BlueHDi Allure'"
      ]
     },
     "execution_count": 56,
     "metadata": {},
     "output_type": "execute_result"
    }
   ],
   "source": [
    "type = car.h3.text#.replace(u'\\xa0', u' ')\n",
    "type"
   ]
  },
  {
   "cell_type": "code",
   "execution_count": 57,
   "id": "d9a751ab",
   "metadata": {},
   "outputs": [
    {
     "data": {
      "text/plain": [
       "'Globe-Auto Kft.'"
      ]
     },
     "execution_count": 57,
     "metadata": {},
     "output_type": "execute_result"
    }
   ],
   "source": [
    "dealership_name = car.find('div','dealership-name').text.strip()\n",
    "dealership_name"
   ]
  },
  {
   "cell_type": "code",
   "execution_count": 58,
   "id": "3763aa7f",
   "metadata": {},
   "outputs": [
    {
     "data": {
      "text/plain": [
       "'(Mezőkövesd)'"
      ]
     },
     "execution_count": 58,
     "metadata": {},
     "output_type": "execute_result"
    }
   ],
   "source": [
    "dealership_loc = car.find('div', 'city').text.strip()\n",
    "dealership_loc"
   ]
  },
  {
   "cell_type": "code",
   "execution_count": 59,
   "id": "2a066309",
   "metadata": {},
   "outputs": [
    {
     "data": {
      "text/plain": [
       "'Minősített Prémium kereskedő'"
      ]
     },
     "execution_count": 59,
     "metadata": {},
     "output_type": "execute_result"
    }
   ],
   "source": [
    "dealership_evaluation = car.find('div','evaluation').text.strip()\n",
    "dealership_evaluation"
   ]
  },
  {
   "cell_type": "code",
   "execution_count": 60,
   "id": "4a29b3b2",
   "metadata": {},
   "outputs": [
    {
     "data": {
      "text/plain": [
       "'2018. 03.'"
      ]
     },
     "execution_count": 60,
     "metadata": {},
     "output_type": "execute_result"
    }
   ],
   "source": [
    "year = car.find('div', 'year-odo').span.b.text\n",
    "year"
   ]
  },
  {
   "cell_type": "code",
   "execution_count": 61,
   "id": "f9292288",
   "metadata": {},
   "outputs": [
    {
     "data": {
      "text/plain": [
       "'127 440 km'"
      ]
     },
     "execution_count": 61,
     "metadata": {},
     "output_type": "execute_result"
    }
   ],
   "source": [
    "km = car.find('div', 'year-odo').find('span','dotted').text\n",
    "km"
   ]
  },
  {
   "cell_type": "code",
   "execution_count": 62,
   "id": "be8133c6",
   "metadata": {},
   "outputs": [
    {
     "data": {
      "text/plain": [
       "'4 199 000 Ft'"
      ]
     },
     "execution_count": 62,
     "metadata": {},
     "output_type": "execute_result"
    }
   ],
   "source": [
    "price = car.find('div', 'price').text.strip()\n",
    "price"
   ]
  },
  {
   "cell_type": "markdown",
   "id": "9308804d",
   "metadata": {},
   "source": [
    "#### Informations like number of doors, type of transmission, Power etc. are all text within 'span' tags with class 'dotted'.\n",
    "#### We find all specified tag and get the 'text' part."
   ]
  },
  {
   "cell_type": "code",
   "execution_count": 63,
   "id": "2e36f11d",
   "metadata": {
    "collapsed": true
   },
   "outputs": [
    {
     "data": {
      "text/plain": [
       "['127 440 km',\n",
       " '120 LE',\n",
       " '1560 cm3',\n",
       " 'Dízel',\n",
       " 'Kombi',\n",
       " 'Használt',\n",
       " 'Eladó',\n",
       " '5 ajtós',\n",
       " '5 fő',\n",
       " 'Manuális']"
      ]
     },
     "execution_count": 63,
     "metadata": {},
     "output_type": "execute_result"
    }
   ],
   "source": [
    "infos = car.find_all('span', 'dotted')\n",
    "infos_list = []\n",
    "for i in range(len(infos)):\n",
    "    info = infos[i].text\n",
    "    infos_list.append(info)\n",
    "infos_list"
   ]
  },
  {
   "cell_type": "markdown",
   "id": "ea7e323d",
   "metadata": {},
   "source": [
    "### With get_cardata funcion we collect every main info. (Same as the previous section just in one function)."
   ]
  },
  {
   "cell_type": "code",
   "execution_count": 64,
   "id": "5dea1f83",
   "metadata": {},
   "outputs": [],
   "source": [
    "def get_min_cardata(car):\n",
    "    brand_mf = car.h2.text.replace(u'\\xa0', u' ')\n",
    "    type = car.h3.text#.replace(u'\\xa0', u' ')\n",
    "    dealership_name = car.find('div','dealership-name').text.strip()\n",
    "    dealership_loc = car.find('div', 'city').text.strip()\n",
    "    dealership_evaluation = car.find('div','evaluation').text.strip()\n",
    "    year = car.find('div', 'year-odo').span.b.text\n",
    "    km = car.find('div', 'year-odo').find('span','dotted').text\n",
    "    price = car.find('div', 'price').text.strip()\n",
    "    min_cardata = (brand_mf, type, dealership_name, dealership_loc, dealership_evaluation, year, km, price)\n",
    "    return min_cardata"
   ]
  },
  {
   "cell_type": "markdown",
   "id": "5e23957d",
   "metadata": {},
   "source": [
    "### Same as two cells above just  in one function."
   ]
  },
  {
   "cell_type": "code",
   "execution_count": 65,
   "id": "ec8ef860",
   "metadata": {},
   "outputs": [],
   "source": [
    "def get_infos(car):\n",
    "    infos = car.find_all('span', 'dotted')\n",
    "    infos_list = []\n",
    "    for i in range(len(infos)):\n",
    "        info = infos[i].text\n",
    "        infos_list.append(info)\n",
    "    return infos_list"
   ]
  },
  {
   "cell_type": "markdown",
   "id": "3b6bed46",
   "metadata": {},
   "source": [
    "### Get every data and information with a for loop."
   ]
  },
  {
   "cell_type": "code",
   "execution_count": 66,
   "id": "940c0973",
   "metadata": {},
   "outputs": [],
   "source": [
    "carsdata = []\n",
    "carsinfo = []\n",
    "for car in cars:\n",
    "    #data_number = car.find_all('span', 'dotted')\n",
    "    #len(data_number)\n",
    "    #if len(data_number) >= 9:\n",
    "    car_data = get_min_cardata(car)\n",
    "    carsdata.append(car_data)\n",
    "    \n",
    "    car_info = get_infos(car)\n",
    "    carsinfo.append(car_info)"
   ]
  },
  {
   "cell_type": "markdown",
   "id": "f4a8e1a1",
   "metadata": {},
   "source": [
    "### Save the main data and informations into two different csv files."
   ]
  },
  {
   "cell_type": "code",
   "execution_count": 67,
   "id": "b2619e4d",
   "metadata": {},
   "outputs": [],
   "source": [
    "with open('min_carsdata.csv','w', newline='',encoding='utf-8') as f:\n",
    "    writer = csv.writer(f)\n",
    "    writer.writerow(['brand_mf', 'type', 'dealership_name', 'dealership_loc', 'dealership_evaluation', 'year', 'km', 'price'])\n",
    "    writer.writerows(carsdata)"
   ]
  },
  {
   "cell_type": "code",
   "execution_count": 68,
   "id": "7b7e06fd",
   "metadata": {},
   "outputs": [],
   "source": [
    "with open('min_carsinfo.csv','w', newline='',encoding='utf-8') as f:\n",
    "    writer = csv.writer(f)\n",
    "    writer.writerow(['infos'])\n",
    "    writer.writerows(carsinfo)"
   ]
  }
 ],
 "metadata": {
  "kernelspec": {
   "display_name": "Python 3 (ipykernel)",
   "language": "python",
   "name": "python3"
  },
  "language_info": {
   "codemirror_mode": {
    "name": "ipython",
    "version": 3
   },
   "file_extension": ".py",
   "mimetype": "text/x-python",
   "name": "python",
   "nbconvert_exporter": "python",
   "pygments_lexer": "ipython3",
   "version": "3.9.13"
  }
 },
 "nbformat": 4,
 "nbformat_minor": 5
}
